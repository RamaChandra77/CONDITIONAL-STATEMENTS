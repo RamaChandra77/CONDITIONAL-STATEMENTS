{
 "cells": [
  {
   "cell_type": "markdown",
   "id": "845d1bca-0ffa-4258-a379-1a87954121a4",
   "metadata": {},
   "source": [
    "#### Condotional statement in python\n",
    "###### .decision making statements\n",
    "   ###### .if\n",
    "   ###### .if-elif\n",
    "   ###### .if-else\n",
    "   ###### .if-elif-else\n",
    "   ###### .nested if"
   ]
  },
  {
   "cell_type": "markdown",
   "id": "3174791a-3fc5-4ca4-8c61-8e4c109d306a",
   "metadata": {},
   "source": [
    "#### IF:\n",
    "###### .if statement syntax\n",
    "###### *if test expression:statement(s)\n",
    "###### The program evaluates the test expression and will execute statement(s) only if the expression is True.\n",
    "###### if the text expression is False, the statement(s) is not executed."
   ]
  },
  {
   "cell_type": "markdown",
   "id": "492054bf-1947-416b-a05d-f3f59d9864e4",
   "metadata": {},
   "source": [
    "#### Block Structure\n",
    "###### .The code that is executed when a specific condition is met is defined in a \"block\".\n",
    "###### .In python, the block structure is signalled by changes in indentation.\n",
    "###### .Each line of code in certain block level must be indented equally and indented more than the surrounding scope.\n",
    "###### .The standard is to use 4 spaces for each level of block indentation.\n",
    "###### .Statements preceding block generally end with a colon(:). "
   ]
  },
  {
   "cell_type": "code",
   "execution_count": 1,
   "id": "67fab76a-ee93-4398-8c96-62641ff4b21f",
   "metadata": {},
   "outputs": [
    {
     "name": "stdout",
     "output_type": "stream",
     "text": [
      "hii\n",
      "rama\n"
     ]
    }
   ],
   "source": [
    "if 2 < 3:\n",
    "    print(\"hii\")\n",
    "    print(\"rama\")"
   ]
  },
  {
   "cell_type": "code",
   "execution_count": 12,
   "id": "048d44c3-c6a2-40c3-ba76-8466bc302739",
   "metadata": {},
   "outputs": [],
   "source": [
    "if 5 > 7:\n",
    "    print(\"rama\")"
   ]
  },
  {
   "cell_type": "code",
   "execution_count": 13,
   "id": "49af4194-968f-4d7c-bc9b-c1eeac47b258",
   "metadata": {},
   "outputs": [
    {
     "name": "stdout",
     "output_type": "stream",
     "text": [
      "hii\n"
     ]
    }
   ],
   "source": [
    "if 5 > 7:\n",
    "    print(\"rama\")\n",
    "print(\"hii\")"
   ]
  },
  {
   "cell_type": "code",
   "execution_count": 14,
   "id": "c02a8e09-90de-4666-8f78-31592c38142e",
   "metadata": {},
   "outputs": [
    {
     "name": "stdin",
     "output_type": "stream",
     "text": [
      "Enter name rama\n"
     ]
    },
    {
     "name": "stdout",
     "output_type": "stream",
     "text": [
      "hello rama good morning\n"
     ]
    }
   ],
   "source": [
    "n=input(\"Enter name\")\n",
    "if n == \"rama\":\n",
    "    print(\"hello rama good morning\")"
   ]
  },
  {
   "cell_type": "markdown",
   "id": "cf40aca0-a11d-4ba7-91e3-eae917197e4e",
   "metadata": {},
   "source": [
    "#### If-else Syntax:\n",
    "###### if test expression:\n",
    "###### Body of if\n",
    "###### else:\n",
    "###### Body of else"
   ]
  },
  {
   "cell_type": "code",
   "execution_count": 16,
   "id": "a1d5192c-ad77-4e26-a8b2-2a0c39b0d6ef",
   "metadata": {},
   "outputs": [
    {
     "name": "stdout",
     "output_type": "stream",
     "text": [
      "rama\n"
     ]
    }
   ],
   "source": [
    "if 5 < 7:\n",
    "    print(\"rama\")\n",
    "else:\n",
    "    print(\"biswo\")"
   ]
  },
  {
   "cell_type": "code",
   "execution_count": 17,
   "id": "847e04cb-6b3b-4705-8281-8abc343ef245",
   "metadata": {},
   "outputs": [
    {
     "name": "stdout",
     "output_type": "stream",
     "text": [
      "biswo\n"
     ]
    }
   ],
   "source": [
    "if 5 > 7:\n",
    "    print(\"rama\")\n",
    "else:\n",
    "    print(\"biswo\")"
   ]
  },
  {
   "cell_type": "code",
   "execution_count": 2,
   "id": "32aa0154-fa67-4cc7-9c24-36ca1702840a",
   "metadata": {},
   "outputs": [
    {
     "name": "stdin",
     "output_type": "stream",
     "text": [
      "Enter a number 12\n"
     ]
    },
    {
     "name": "stdout",
     "output_type": "stream",
     "text": [
      "12 is even no\n"
     ]
    }
   ],
   "source": [
    "y=int(input(\"Enter a number\"))\n",
    "if (y%2==0):\n",
    "    print (y,\"is even no\")\n",
    "else:\n",
    "    print (x,\"is odd no\")"
   ]
  },
  {
   "cell_type": "code",
   "execution_count": 19,
   "id": "edb4b2d5-4086-42ec-8d0a-fce6ca18b810",
   "metadata": {},
   "outputs": [
    {
     "name": "stdin",
     "output_type": "stream",
     "text": [
      "enter name prabhas\n"
     ]
    },
    {
     "name": "stdout",
     "output_type": "stream",
     "text": [
      "helo prabhas Good morning\n"
     ]
    }
   ],
   "source": [
    "N=input('enter name')\n",
    "if N == 'rama':\n",
    "    print(\"hello rama good morning\")\n",
    "else:\n",
    "    print(\"helo\",N,\"Good morning\")"
   ]
  },
  {
   "cell_type": "code",
   "execution_count": 22,
   "id": "36f0d50f-5c10-425f-8bf4-bf0e84c7a068",
   "metadata": {},
   "outputs": [
    {
     "name": "stdout",
     "output_type": "stream",
     "text": [
      "yes\n",
      "no\n"
     ]
    }
   ],
   "source": [
    "l0=['one','two','three','four']\n",
    "if 'two' in l0:\n",
    "    print(\"yes\")\n",
    "if 'six' not in l0:\n",
    "    print(\"no\")"
   ]
  },
  {
   "cell_type": "code",
   "execution_count": 1,
   "id": "d6cbad86-58cd-48ef-8faa-a5f1ff6dbd71",
   "metadata": {},
   "outputs": [
    {
     "name": "stdin",
     "output_type": "stream",
     "text": [
      " 4\n"
     ]
    },
    {
     "name": "stdout",
     "output_type": "stream",
     "text": [
      "4 is positive\n"
     ]
    }
   ],
   "source": [
    "a=int(input())\n",
    "if (a>=0):\n",
    "    print(a,'is positive')\n",
    "else:\n",
    "    print(a,'is negative number')"
   ]
  },
  {
   "cell_type": "code",
   "execution_count": 26,
   "id": "d9d2bff3-0f14-4cc9-9136-0e37d25edd15",
   "metadata": {},
   "outputs": [
    {
     "name": "stdout",
     "output_type": "stream",
     "text": [
      "9 is odd number\n",
      "this is out of IF else block\n"
     ]
    }
   ],
   "source": [
    "x=9\n",
    "if x%2==0:\n",
    "    print(x,'is even number')\n",
    "else:\n",
    "    print(x,'is odd number')\n",
    "print(\"this is out of IF else block\")"
   ]
  },
  {
   "cell_type": "code",
   "execution_count": 3,
   "id": "4574da96-9f37-46c4-8684-07f053d5c5ca",
   "metadata": {},
   "outputs": [
    {
     "name": "stdout",
     "output_type": "stream",
     "text": [
      "['one', 'two', 'three', 'four'] yes this no is available is l1\n"
     ]
    }
   ],
   "source": [
    "l1=['one','two','three','four']\n",
    "if 'two' in l1:\n",
    "    print(l1,\"yes this no is available is l1\")\n",
    "else:\n",
    "    print(\"NO this no is not available\")"
   ]
  },
  {
   "cell_type": "code",
   "execution_count": 6,
   "id": "caa6b17b-089b-4af5-b6e1-089401944152",
   "metadata": {},
   "outputs": [
    {
     "name": "stdout",
     "output_type": "stream",
     "text": [
      "first\n"
     ]
    }
   ],
   "source": [
    "if 2==2:\n",
    "    print(\"first\")"
   ]
  },
  {
   "cell_type": "markdown",
   "id": "1371f64a-30c2-4bde-8e12-8b4710be6d9a",
   "metadata": {},
   "source": [
    " #### if-elif-else Syntax:\n",
    " ###### if test expression:\n",
    " ###### Body of if\n",
    " ###### elif test expression:\n",
    " ###### Body of elif\n",
    " ###### else:\n",
    " ###### Body of else"
   ]
  },
  {
   "cell_type": "code",
   "execution_count": 29,
   "id": "5aa2e9a1-ad58-4fe7-b982-c8fb31bb3bbe",
   "metadata": {},
   "outputs": [
    {
     "name": "stdout",
     "output_type": "stream",
     "text": [
      "first\n"
     ]
    }
   ],
   "source": [
    "if 2==2:\n",
    "    print(\"first\")\n",
    "elif 3==3:\n",
    "    print(\"second\")"
   ]
  },
  {
   "cell_type": "code",
   "execution_count": 7,
   "id": "e12dd3c4-d1d7-49ba-97cf-f0787de19912",
   "metadata": {},
   "outputs": [
    {
     "name": "stdout",
     "output_type": "stream",
     "text": [
      "grade C\n"
     ]
    }
   ],
   "source": [
    "y=52\n",
    "if y>90:\n",
    "    print(\"grade A\")\n",
    "elif(y>60):\n",
    "    print(\"grade B\")\n",
    "elif(y>40):\n",
    "    print(\"grade C\")\n",
    "else:\n",
    "    print(\"grade F\")"
   ]
  },
  {
   "cell_type": "code",
   "execution_count": 31,
   "id": "fda12cd1-1d20-4216-b358-802d55e53460",
   "metadata": {},
   "outputs": [
    {
     "name": "stdin",
     "output_type": "stream",
     "text": [
      "Enter your favorite brand: RC\n"
     ]
    },
    {
     "name": "stdout",
     "output_type": "stream",
     "text": [
      "it is childrens brand\n"
     ]
    }
   ],
   "source": [
    "brand=input(\"Enter your favorite brand:\")\n",
    "if brand == \"RC\":\n",
    "    print(\"it is childrens brand\")\n",
    "elif brand==\"KF\":\n",
    "    print(\"it is not that much kick\")\n",
    "elif brand==\"FO\":\n",
    "    print(\"Buy one get one free\")\n",
    "elif brand==\"RC\":\n",
    "    print(\"it is brand\")\n",
    "else:\n",
    "    print(\"other brands are not recommended\")"
   ]
  },
  {
   "cell_type": "code",
   "execution_count": 33,
   "id": "9ba27201-f1a5-4805-be99-47f47983eeb3",
   "metadata": {},
   "outputs": [
    {
     "ename": "TypeError",
     "evalue": "argument of type 'int' is not iterable",
     "output_type": "error",
     "traceback": [
      "\u001b[1;31m---------------------------------------------------------------------------\u001b[0m",
      "\u001b[1;31mTypeError\u001b[0m                                 Traceback (most recent call last)",
      "Cell \u001b[1;32mIn[33], line 1\u001b[0m\n\u001b[1;32m----> 1\u001b[0m \u001b[38;5;28;01mif\u001b[39;00m \u001b[38;5;241m1\u001b[39m \u001b[38;5;129;01min\u001b[39;00m \u001b[38;5;241m3\u001b[39m:\n\u001b[0;32m      2\u001b[0m     \u001b[38;5;28mprint\u001b[39m(\u001b[38;5;124m\"\u001b[39m\u001b[38;5;124mhow did that happen?\u001b[39m\u001b[38;5;124m\"\u001b[39m)\n\u001b[0;32m      3\u001b[0m \u001b[38;5;28;01melif\u001b[39;00m \u001b[38;5;241m1\u001b[39m \u001b[38;5;241m>\u001b[39m \u001b[38;5;241m3\u001b[39m:\n",
      "\u001b[1;31mTypeError\u001b[0m: argument of type 'int' is not iterable"
     ]
    }
   ],
   "source": [
    "if 1 in 3:\n",
    "    print(\"how did that happen?\")\n",
    "elif 1 > 3:\n",
    "    print(\"yikes\")\n",
    "else:\n",
    "    print(\"All is well with the world\")"
   ]
  },
  {
   "cell_type": "code",
   "execution_count": 36,
   "id": "41a3a2f0-f995-491a-8055-f2624f0d5715",
   "metadata": {},
   "outputs": [
    {
     "name": "stdin",
     "output_type": "stream",
     "text": [
      "enter marks: 85\n"
     ]
    },
    {
     "name": "stdout",
     "output_type": "stream",
     "text": [
      "85 B grade\n"
     ]
    }
   ],
   "source": [
    "''' findout the grades based on student marks\n",
    "85-100 - A grades\n",
    "75-85 - B grades\n",
    "65-75 - C grades\n",
    "55-65 - D grades\n",
    "45-55 - E grades\n",
    "0-45 - Fail\n",
    "'''\n",
    "a=int(float(input(\"enter marks:\")))\n",
    "if (a>85 and a<=100):\n",
    "    print(a,'A grade')\n",
    "elif(a<=85 and a>75):\n",
    "    print(a,'B grade')\n",
    "elif(a<=75 and a>65):\n",
    "    print(a,'C grade')\n",
    "elif(a<=65 and a>55):\n",
    "    print(a,'D grade')\n",
    "elif(a<=55 and a>45):\n",
    "    print(a,' E grade')\n",
    "else:\n",
    "    print(a,'Fail')"
   ]
  },
  {
   "cell_type": "code",
   "execution_count": 39,
   "id": "7f73c96c-9d02-4771-aa81-ab71da321a29",
   "metadata": {},
   "outputs": [
    {
     "name": "stdin",
     "output_type": "stream",
     "text": [
      "Enter first number: 20\n",
      "Enter second number: 25\n"
     ]
    },
    {
     "name": "stdout",
     "output_type": "stream",
     "text": [
      "Biggest number is: 25\n"
     ]
    }
   ],
   "source": [
    "# Write a program to find biggest of given  2 numbers from the input console?\n",
    "n1=int(input(\"Enter first number:\"))\n",
    "n2=int(input(\"Enter second number:\"))\n",
    "if n1 > n2:\n",
    "       print(\"Biggest number is:\",n1)\n",
    "else:\n",
    "    print(\"Biggest number is:\",n2)"
   ]
  },
  {
   "cell_type": "code",
   "execution_count": 40,
   "id": "cae5d6b0-5ff7-4fb5-8ba6-c22e7458029e",
   "metadata": {},
   "outputs": [
    {
     "name": "stdin",
     "output_type": "stream",
     "text": [
      "Enter first number: 30\n",
      "Enter second number: 49\n",
      "Enter second number: 23\n"
     ]
    },
    {
     "name": "stdout",
     "output_type": "stream",
     "text": [
      "Biggest number is: 49\n"
     ]
    }
   ],
   "source": [
    "# Write a program to find largest of given 3 numbers from the input console?\n",
    "n1=int(input(\"Enter first number:\"))\n",
    "n2=int(input(\"Enter second number:\"))\n",
    "n3=int(input(\"Enter second number:\"))\n",
    "if n1 > n2 and n1 > n3:\n",
    "    print(\"Biggest number is:\",n1)\n",
    "elif n2 > n3:\n",
    "    print(\"Biggest number is:\",n2)\n",
    "else:\n",
    "    print(\"Biggest number is:\",n3)"
   ]
  },
  {
   "cell_type": "code",
   "execution_count": 43,
   "id": "66ab7c93-aeff-463c-bcb6-d45733269eaf",
   "metadata": {},
   "outputs": [
    {
     "name": "stdin",
     "output_type": "stream",
     "text": [
      "Enter first string: prabhas\n",
      "Enter second string: rama\n"
     ]
    },
    {
     "name": "stdout",
     "output_type": "stream",
     "text": [
      "First string is less than second string\n"
     ]
    }
   ],
   "source": [
    "# Comparision of strings: we can use comparision operators(<,<=,>,>=)and equality operators(==,!=) for strings. Comparision will be performed based on alphabetical order.\n",
    "l1=input(\"Enter first string:\")\n",
    "l2=input(\"Enter second string:\")\n",
    "if l1==l2:\n",
    "    print(\"Both strings are equal\")\n",
    "elif l1<l2:\n",
    "    print(\"First string is less than second string\")\n",
    "else:\n",
    "    print(\"First string is greater than second string\")"
   ]
  },
  {
   "cell_type": "markdown",
   "id": "936beb3a-fa9a-417f-88c5-52a09cba7378",
   "metadata": {},
   "source": [
    "#### Nested if Statements\n",
    "###### we can have a if...elif.. else statement inside another if..elif...else statement. This is called nested in computer programming."
   ]
  },
  {
   "cell_type": "code",
   "execution_count": 46,
   "id": "f3ef2ba1-05f9-433b-83ca-9fcc88cb27dd",
   "metadata": {},
   "outputs": [
    {
     "name": "stdout",
     "output_type": "stream",
     "text": [
      "positive number\n"
     ]
    }
   ],
   "source": [
    "num=10\n",
    "if num>= 10:\n",
    "    if num == 0:\n",
    "        print(\"not\")\n",
    "    else:\n",
    "        print(\"positive number\")\n",
    "else:\n",
    "    print(\"negative number\")"
   ]
  },
  {
   "cell_type": "code",
   "execution_count": 47,
   "id": "3037eb02-745b-4923-8746-f3a15f0a92c7",
   "metadata": {},
   "outputs": [
    {
     "name": "stdout",
     "output_type": "stream",
     "text": [
      "positive number\n"
     ]
    }
   ],
   "source": [
    "num=0\n",
    "if num>= 0:\n",
    "    if num == 10:\n",
    "        print(\"not\")\n",
    "    else:\n",
    "        print(\"positive number\")\n",
    "else:\n",
    "    print(\"negative number\")"
   ]
  },
  {
   "cell_type": "code",
   "execution_count": 48,
   "id": "6a078221-0005-4e56-b9f8-ab599d148750",
   "metadata": {},
   "outputs": [
    {
     "name": "stdout",
     "output_type": "stream",
     "text": [
      "not\n"
     ]
    }
   ],
   "source": [
    "num=0\n",
    "if num>= 0:\n",
    "    if num == 0:\n",
    "        print(\"not\")\n",
    "    else:\n",
    "        print(\"positive number\")\n",
    "else:\n",
    "    print(\"negative number\")"
   ]
  },
  {
   "cell_type": "code",
   "execution_count": 49,
   "id": "3711a55b-03ed-4719-9272-8067053b733b",
   "metadata": {},
   "outputs": [
    {
     "name": "stdout",
     "output_type": "stream",
     "text": [
      "less than 3\n",
      "dj\n"
     ]
    }
   ],
   "source": [
    "i=2.1\n",
    "if (i<3):\n",
    "    print(\"less than 3\")\n",
    "    if i>2:\n",
    "        print(\"dj\")\n",
    "elif i<5:\n",
    "    print(\"less than 5\")\n",
    "else:\n",
    "    print(\"5 or more\")"
   ]
  },
  {
   "cell_type": "code",
   "execution_count": 50,
   "id": "1fa0820e-e417-4a64-9e56-3e9239bc70ea",
   "metadata": {},
   "outputs": [
    {
     "name": "stdin",
     "output_type": "stream",
     "text": [
      "enter your pin 7843\n",
      "widraw amount: 38643\n"
     ]
    },
    {
     "name": "stdout",
     "output_type": "stream",
     "text": [
      "38643 sucessfully tranasaction completed\n"
     ]
    }
   ],
   "source": [
    "amount=40000\n",
    "pin=7843\n",
    "if (int(input('enter your pin'))==7843):\n",
    "    widraw=int(input('widraw amount:'))\n",
    "    if (widraw<=amount):\n",
    "        print(widraw,\"sucessfully tranasaction completed\")\n",
    "    else:\n",
    "        print(widraw,\"not sufficient funds in your account\")\n",
    "else:\n",
    "    print(\"invalid pin number\")"
   ]
  },
  {
   "cell_type": "code",
   "execution_count": null,
   "id": "a5336bf8-7ee1-4709-9e7b-501c8391c05f",
   "metadata": {},
   "outputs": [],
   "source": []
  }
 ],
 "metadata": {
  "kernelspec": {
   "display_name": "Python 3 (ipykernel)",
   "language": "python",
   "name": "python3"
  },
  "language_info": {
   "codemirror_mode": {
    "name": "ipython",
    "version": 3
   },
   "file_extension": ".py",
   "mimetype": "text/x-python",
   "name": "python",
   "nbconvert_exporter": "python",
   "pygments_lexer": "ipython3",
   "version": "3.11.7"
  }
 },
 "nbformat": 4,
 "nbformat_minor": 5
}
